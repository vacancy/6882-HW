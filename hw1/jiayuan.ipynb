{
  "nbformat": 4,
  "nbformat_minor": 0,
  "metadata": {
    "colab": {
      "name": "Copy of HW1.1_starter_code.ipynb",
      "provenance": [],
      "collapsed_sections": []
    },
    "kernelspec": {
      "display_name": "Python 3",
      "language": "python",
      "name": "python3"
    },
    "language_info": {
      "codemirror_mode": {
        "name": "ipython",
        "version": 3
      },
      "file_extension": ".py",
      "mimetype": "text/x-python",
      "name": "python",
      "nbconvert_exporter": "python",
      "pygments_lexer": "ipython3",
      "version": "3.6.7"
    }
  },
  "cells": [
    {
      "cell_type": "markdown",
      "metadata": {
        "id": "fnJbsHs7MGCT",
        "colab_type": "text"
      },
      "source": [
        "# 6.882 HW 1.1 Starter Code\n",
        "\n",
        "See the problem set handout for instructions and deliverables.\n",
        "\n",
        "###  Installing Dependencies (PDDLGym)\n",
        "The main dependency that we will use in this and some future problem sets is [PDDLGym](https://github.com/tomsilver/pddlgym). PDDLGym is a package developed by us. The bad news is that it almost certainly has bugs. The good news is that we can fix those bugs quickly when you find them. If you encounter any strange behavior, please contact course staff or open an issue through Github.\n",
        "\n",
        "**Important:** Since PDDLGym will be updating throughout the course, it is important that you _install from source_ at the beginning of each problem set, rather than via ~pip install pddlgym~. The recommended way to install from source is: `pip install --upgrade git+https://github.com/tomsilver/pddlgym`. We take care of this for you at the top of this notebook."
      ]
    },
    {
      "cell_type": "code",
      "metadata": {
        "colab_type": "code",
        "id": "bf-wPeAaeaRf",
        "colab": {
          "base_uri": "https://localhost:8080/",
          "height": 493
        },
        "outputId": "9996f7c7-2b88-4477-b797-856865102849"
      },
      "source": [
        "# Install dependencies (run this once ever 12 hours)\n",
        "!pip install --upgrade git+https://github.com/tomsilver/pddlgym # Install most recent PDDLGym (must be from source!)"
      ],
      "execution_count": 1,
      "outputs": [
        {
          "output_type": "stream",
          "text": [
            "Collecting git+https://github.com/tomsilver/pddlgym\n",
            "  Cloning https://github.com/tomsilver/pddlgym to /tmp/pip-req-build-kx6lzjms\n",
            "  Running command git clone -q https://github.com/tomsilver/pddlgym /tmp/pip-req-build-kx6lzjms\n",
            "Requirement already satisfied, skipping upgrade: matplotlib in /usr/local/lib/python3.6/dist-packages (from pddlgym==0.0.2) (3.2.2)\n",
            "Requirement already satisfied, skipping upgrade: pillow in /usr/local/lib/python3.6/dist-packages (from pddlgym==0.0.2) (7.0.0)\n",
            "Requirement already satisfied, skipping upgrade: gym in /usr/local/lib/python3.6/dist-packages (from pddlgym==0.0.2) (0.17.2)\n",
            "Requirement already satisfied, skipping upgrade: imageio in /usr/local/lib/python3.6/dist-packages (from pddlgym==0.0.2) (2.4.1)\n",
            "Requirement already satisfied, skipping upgrade: scikit-image in /usr/local/lib/python3.6/dist-packages (from pddlgym==0.0.2) (0.16.2)\n",
            "Requirement already satisfied, skipping upgrade: pyparsing!=2.0.4,!=2.1.2,!=2.1.6,>=2.0.1 in /usr/local/lib/python3.6/dist-packages (from matplotlib->pddlgym==0.0.2) (2.4.7)\n",
            "Requirement already satisfied, skipping upgrade: numpy>=1.11 in /usr/local/lib/python3.6/dist-packages (from matplotlib->pddlgym==0.0.2) (1.18.5)\n",
            "Requirement already satisfied, skipping upgrade: cycler>=0.10 in /usr/local/lib/python3.6/dist-packages (from matplotlib->pddlgym==0.0.2) (0.10.0)\n",
            "Requirement already satisfied, skipping upgrade: python-dateutil>=2.1 in /usr/local/lib/python3.6/dist-packages (from matplotlib->pddlgym==0.0.2) (2.8.1)\n",
            "Requirement already satisfied, skipping upgrade: kiwisolver>=1.0.1 in /usr/local/lib/python3.6/dist-packages (from matplotlib->pddlgym==0.0.2) (1.2.0)\n",
            "Requirement already satisfied, skipping upgrade: pyglet<=1.5.0,>=1.4.0 in /usr/local/lib/python3.6/dist-packages (from gym->pddlgym==0.0.2) (1.5.0)\n",
            "Requirement already satisfied, skipping upgrade: scipy in /usr/local/lib/python3.6/dist-packages (from gym->pddlgym==0.0.2) (1.4.1)\n",
            "Requirement already satisfied, skipping upgrade: cloudpickle<1.4.0,>=1.2.0 in /usr/local/lib/python3.6/dist-packages (from gym->pddlgym==0.0.2) (1.3.0)\n",
            "Requirement already satisfied, skipping upgrade: networkx>=2.0 in /usr/local/lib/python3.6/dist-packages (from scikit-image->pddlgym==0.0.2) (2.5)\n",
            "Requirement already satisfied, skipping upgrade: PyWavelets>=0.4.0 in /usr/local/lib/python3.6/dist-packages (from scikit-image->pddlgym==0.0.2) (1.1.1)\n",
            "Requirement already satisfied, skipping upgrade: six in /usr/local/lib/python3.6/dist-packages (from cycler>=0.10->matplotlib->pddlgym==0.0.2) (1.15.0)\n",
            "Requirement already satisfied, skipping upgrade: future in /usr/local/lib/python3.6/dist-packages (from pyglet<=1.5.0,>=1.4.0->gym->pddlgym==0.0.2) (0.16.0)\n",
            "Requirement already satisfied, skipping upgrade: decorator>=4.3.0 in /usr/local/lib/python3.6/dist-packages (from networkx>=2.0->scikit-image->pddlgym==0.0.2) (4.4.2)\n",
            "Building wheels for collected packages: pddlgym\n",
            "  Building wheel for pddlgym (setup.py) ... \u001b[?25l\u001b[?25hdone\n",
            "  Created wheel for pddlgym: filename=pddlgym-0.0.2-cp36-none-any.whl size=5560759 sha256=e04067c46b06a3a97e7e2ddbd10f93440e7aa76a653b508617bf41e23b9113ac\n",
            "  Stored in directory: /tmp/pip-ephem-wheel-cache-94a61uty/wheels/50/e8/3a/c26982decc88172ada05f2040d7fba539da5b1ceaff9b505a2\n",
            "Successfully built pddlgym\n",
            "Installing collected packages: pddlgym\n",
            "Successfully installed pddlgym-0.0.2\n"
          ],
          "name": "stdout"
        }
      ]
    },
    {
      "cell_type": "markdown",
      "metadata": {
        "id": "aiZwFfesMGCW",
        "colab_type": "text"
      },
      "source": [
        "### Key Environment Functions"
      ]
    },
    {
      "cell_type": "code",
      "metadata": {
        "id": "RUhFm58rMGCX",
        "colab_type": "code",
        "colab": {}
      },
      "source": [
        "import pddlgym\n",
        "import time\n",
        "import random\n",
        "\n",
        "# Create an environment\n",
        "env = pddlgym.make(\"SearchAndRescueLevel1-v0\")\n",
        "# Check the number of problems\n",
        "num_problems = len(env.problems)\n",
        "# Fix the environment to the first problem\n",
        "env.fix_problem_index(0)\n",
        "# Reset the environment to the initial state\n",
        "state, debug_info = env.reset()\n",
        "# Get the available actions\n",
        "actions = env.get_possible_actions()\n",
        "# Compute a successor state (without advancing the env)\n",
        "next_state = env.get_successor_state(state, actions[0])\n",
        "# Check goal\n",
        "goal_satisfied = env.check_goal(next_state)\n",
        "# Advance the environment\n",
        "state, reward, done, info = env.step(actions[0])"
      ],
      "execution_count": 2,
      "outputs": []
    },
    {
      "cell_type": "markdown",
      "metadata": {
        "id": "Pl1yKqnqMGCc",
        "colab_type": "text"
      },
      "source": [
        "### Rendering Utilities"
      ]
    },
    {
      "cell_type": "code",
      "metadata": {
        "colab_type": "code",
        "id": "QrXFiUQSmlsc",
        "colab": {}
      },
      "source": [
        "import matplotlib.pyplot as plt\n",
        "\n",
        "def display_image(img, title=None):\n",
        "    \"\"\"Render a figure inline\n",
        "    \"\"\"\n",
        "    plt.figure()\n",
        "    if title:\n",
        "        plt.title(title)\n",
        "    plt.imshow(img)\n",
        "    _ = plt.axis('off')"
      ],
      "execution_count": 3,
      "outputs": []
    },
    {
      "cell_type": "code",
      "metadata": {
        "id": "LNRtrQngvR9K",
        "colab_type": "code",
        "colab": {}
      },
      "source": [
        "from heapq import heappop, heappush\n",
        "\n",
        "def random_plan(ctx, env, state, actions, max_steps=250):\n",
        "    plan = list()\n",
        "    for i in range(max_steps):\n",
        "        plan.append(random.choice(actions))\n",
        "    return plan\n",
        "\n",
        "def heuristic_search(ctx, env, init_state, actions, a_star=True, heuristic_func=lambda x: 0, timeout=10):\n",
        "    q = [(0, 0, 0, init_state)]\n",
        "    plans = [(None, None)]\n",
        "    visited = {init_state}\n",
        "\n",
        "    start_time = time.time()\n",
        "\n",
        "    def gen_plan(idx):\n",
        "        result = []\n",
        "        idx, a = plans[idx]\n",
        "        while a is not None:\n",
        "            result.append(a)\n",
        "            idx, a = plans[idx]\n",
        "        return list(reversed(result))\n",
        "\n",
        "    ctx['expanded_states'] = 0\n",
        "\n",
        "    while len(q) > 0:\n",
        "        if time.time() - start_time > timeout:\n",
        "            break\n",
        "        _f, distance, plan_idx, u = heappop(q)\n",
        "\n",
        "        ctx['expanded_states'] += 1\n",
        "\n",
        "        if env.check_goal(u):\n",
        "            return gen_plan(plan_idx)\n",
        "\n",
        "        uu = dict(u)\n",
        "        # print(uu['carrying'] if uu['carrying'] is not None else uu['person0'], uu['robot0'], uu['hospital0'], _f, _f - distance)\n",
        "\n",
        "        for a in actions:\n",
        "            v = env.get_successor_state(u, a)\n",
        "\n",
        "            if v in visited:\n",
        "                continue\n",
        "            visited.add(v)\n",
        "\n",
        "            h = heuristic_func(v)\n",
        "            if a_star:\n",
        "                f = distance + 1 + h\n",
        "            else:\n",
        "                f = h\n",
        "            # print('    ', a, v, f)\n",
        "            plans.append((plan_idx, a))\n",
        "            heappush(q, (f, distance + 1, len(plans) - 1, v))\n",
        "\n",
        "    return None\n",
        "\n",
        "\n",
        "def l1_distance(a, b):\n",
        "    return abs(a[0]-b[0]) + abs(a[1]-b[1])\n",
        "\n",
        "\n",
        "def my_heuristics(state):\n",
        "    state = dict(state)\n",
        "    a, b, c = state['robot0'], None, state['hospital0']\n",
        "    if state['carrying'] is None:\n",
        "        b = state['person0']\n",
        "        return l1_distance(a, b) + l1_distance(b, c) + 2\n",
        "    else:\n",
        "        return l1_distance(a, c) + 1"
      ],
      "execution_count": 4,
      "outputs": []
    },
    {
      "cell_type": "markdown",
      "metadata": {
        "id": "M4KxnF4aMGCe",
        "colab_type": "text"
      },
      "source": [
        "### Example Code Snippets"
      ]
    },
    {
      "cell_type": "code",
      "metadata": {
        "id": "t6Kjyh6TMGCe",
        "colab_type": "code",
        "colab": {}
      },
      "source": [
        "def run_plan_execution(problem_idx, algo):\n",
        "    env = pddlgym.make(\"SearchAndRescueLevel1-v0\")\n",
        "    env.fix_problem_index(problem_idx)\n",
        "    state, _ = env.reset()\n",
        "    # NOTE: You should not render/display images when you are collecting final statistics.\n",
        "    # Rendering is only included for your convenience during development/debugging.\n",
        "    # display_image(env.render_from_state(state), \"Initial state\")\n",
        "\n",
        "    actions = dropoff, move_down, move_left, move_right, move_up, pickup_person0 = env.get_possible_actions()\n",
        "\n",
        "    ctx = dict()\n",
        "    ctx['start_time'] = time.time()\n",
        "    if algo == 'random':\n",
        "        plan = random_plan(ctx, env, state, actions, max_steps=250)\n",
        "    elif algo == 'a*_uniform':\n",
        "        plan = heuristic_search(ctx, env, state, actions)\n",
        "    elif algo == 'a*':\n",
        "        plan = heuristic_search(ctx, env, state, actions, heuristic_func=my_heuristics)\n",
        "    elif algo == 'best_first':\n",
        "        plan = heuristic_search(ctx, env, state, actions, a_star=False, heuristic_func=my_heuristics)\n",
        "    else:\n",
        "        raise ValueError()\n",
        "    ctx['end_time'] = time.time()\n",
        "\n",
        "    ctx['env_steps'] = 0\n",
        "    ctx['success'] = False\n",
        "\n",
        "    for action in plan[:250]:\n",
        "        # print(action)\n",
        "        # Advance the state of the environment\n",
        "        state, reward, done, debug_info = env.step(action)\n",
        "        # NOTE: You should not render/display images when you are collecting final statistics.\n",
        "        # Rendering is only included for your convenience during development/debugging.\n",
        "        # display_image(env.render_from_state(state), f\"Took action {action}. Goal reached? {reward == 1}\")\n",
        "        ctx['env_steps'] += 1\n",
        "        if done:\n",
        "            ctx['success'] = True\n",
        "            break\n",
        "    ctx['time'] = ctx['end_time'] - ctx['start_time']\n",
        "    return ctx"
      ],
      "execution_count": 5,
      "outputs": []
    },
    {
      "cell_type": "code",
      "metadata": {
        "id": "5lFhduGw7nLX",
        "colab_type": "code",
        "colab": {}
      },
      "source": [
        "from collections import defaultdict\n",
        "def run_tests():\n",
        "    for algo in ['random', 'a*_uniform', 'a*', 'best_first']:\n",
        "        print(algo)\n",
        "        stat = defaultdict(float)\n",
        "        for pidx in range(num_problems):\n",
        "            ctx = run_plan_execution(pidx, algo)\n",
        "            for k, v in ctx.items():\n",
        "                stat[k] += float(v)\n",
        "        for k, v in stat.items():\n",
        "            stat[k] = v / num_problems\n",
        "        print(algo, stat)"
      ],
      "execution_count": 6,
      "outputs": []
    },
    {
      "cell_type": "code",
      "metadata": {
        "id": "8I0IrN5H8gnO",
        "colab_type": "code",
        "colab": {
          "base_uri": "https://localhost:8080/",
          "height": 153
        },
        "outputId": "c260586c-5b3a-4f87-d90d-bf64f0f688d7"
      },
      "source": [
        "run_tests()"
      ],
      "execution_count": 7,
      "outputs": [
        {
          "output_type": "stream",
          "text": [
            "random\n",
            "random defaultdict(<class 'float'>, {'start_time': 1600319649.5977159, 'end_time': 1600319649.5979035, 'env_steps': 250.0, 'success': 0.0, 'time': 0.00018743276596069335})\n",
            "a*_uniform\n",
            "a*_uniform defaultdict(<class 'float'>, {'start_time': 1600319682.5412564, 'expanded_states': 147.5, 'end_time': 1600319685.7004638, 'env_steps': 11.8, 'success': 1.0, 'time': 3.159207856655121})\n",
            "a*\n",
            "a* defaultdict(<class 'float'>, {'start_time': 1600319726.3113477, 'expanded_states': 40.25, 'end_time': 1600319727.1577299, 'env_steps': 11.8, 'success': 1.0, 'time': 0.8463821887969971})\n",
            "best_first\n",
            "best_first defaultdict(<class 'float'>, {'start_time': 1600319740.0554764, 'expanded_states': 13.95, 'end_time': 1600319740.3433115, 'env_steps': 11.8, 'success': 1.0, 'time': 0.2878352522850037})\n"
          ],
          "name": "stdout"
        }
      ]
    },
    {
      "cell_type": "code",
      "metadata": {
        "id": "7tcPBOiQMGCg",
        "colab_type": "code",
        "colab": {}
      },
      "source": [
        "def run_get_successor_example():\n",
        "    \"\"\"Example demonstrating how to get successors and check goals.\n",
        "    \"\"\"\n",
        "    env = pddlgym.make(\"SearchAndRescueLevel1-v0\")\n",
        "    env.fix_problem_index(0)\n",
        "    initial_state, _ = env.reset()\n",
        "    # NOTE: You should not render/display images when you are collecting final statistics.\n",
        "    # Rendering is only included for your convenience during development/debugging.\n",
        "    display_image(env.render_from_state(initial_state), \"Initial state\")\n",
        "    \n",
        "    actions = dropoff, move_down, move_left, move_right, move_up, pickup_person0 = env.get_possible_actions()\n",
        "\n",
        "    print(initial_state)\n",
        "    \n",
        "    for action in actions:\n",
        "        state = env.get_successor_state(initial_state, action)\n",
        "        goal_reached = env.check_goal(state)\n",
        "        # NOTE: You should not render/display images when you are collecting final statistics.\n",
        "        # Rendering is only included for your convenience during development/debugging.\n",
        "        display_image(env.render_from_state(state), f\"Candidate action: {action}. Goal reached? {goal_reached}\")"
      ],
      "execution_count": 10,
      "outputs": []
    },
    {
      "cell_type": "code",
      "metadata": {
        "id": "zjdYBOwlMGCm",
        "colab_type": "code",
        "colab": {}
      },
      "source": [
        ""
      ],
      "execution_count": null,
      "outputs": []
    }
  ]
}